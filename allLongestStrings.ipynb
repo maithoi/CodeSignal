{
  "nbformat": 4,
  "nbformat_minor": 0,
  "metadata": {
    "colab": {
      "name": "allLongestStrings.ipynb",
      "version": "0.3.2",
      "provenance": [],
      "include_colab_link": true
    },
    "kernelspec": {
      "name": "python3",
      "display_name": "Python 3"
    }
  },
  "cells": [
    {
      "cell_type": "markdown",
      "metadata": {
        "id": "view-in-github",
        "colab_type": "text"
      },
      "source": [
        "<a href=\"https://colab.research.google.com/github/maithoi/CodeSignal/blob/arcade/allLongestStrings.ipynb\" target=\"_parent\"><img src=\"https://colab.research.google.com/assets/colab-badge.svg\" alt=\"Open In Colab\"/></a>"
      ]
    },
    {
      "cell_type": "code",
      "metadata": {
        "id": "8O-dZTBo2KPp",
        "colab_type": "code",
        "outputId": "af9ded1f-6598-46b1-ce24-54b859c5b0b8",
        "colab": {
          "base_uri": "https://localhost:8080/",
          "height": 35
        }
      },
      "source": [
        "inputArray = [\"aba\", \"aa\", \"ad\", \"vcd\", \"aba\"]\n",
        "new_array = []\n",
        "for i in range(len(inputArray)):\n",
        "  new_array.append(len(inputArray[i]))\n",
        "print(new_array)\n"
      ],
      "execution_count": 0,
      "outputs": [
        {
          "output_type": "stream",
          "text": [
            "[3, 2, 2, 3, 3]\n"
          ],
          "name": "stdout"
        }
      ]
    },
    {
      "cell_type": "code",
      "metadata": {
        "id": "I9JwJFwHybBM",
        "colab_type": "code",
        "outputId": "2b31d67e-a95a-4830-b367-c094c8bf1600",
        "colab": {
          "base_uri": "https://localhost:8080/",
          "height": 89
        }
      },
      "source": [
        "print('inputArray:', inputArray)\n",
        "print('new_array:', new_array)\n",
        "print(max(inputArray))\n",
        "print(max(new_array))"
      ],
      "execution_count": 0,
      "outputs": [
        {
          "output_type": "stream",
          "text": [
            "inputArray: ['aba', 'aa', 'ad', 'vcd', 'aba']\n",
            "new_array: [3, 2, 2, 3, 3]\n",
            "vcd\n",
            "3\n"
          ],
          "name": "stdout"
        }
      ]
    },
    {
      "cell_type": "code",
      "metadata": {
        "id": "k-LMRlMpy2Ns",
        "colab_type": "code",
        "outputId": "4a341842-1887-4e69-9f4f-162ec61023d8",
        "colab": {
          "base_uri": "https://localhost:8080/",
          "height": 53
        }
      },
      "source": [
        "filter_arr = [j for j in range(len(new_array)) if new_array[j] == 3]\n",
        "print(filter_arr)\n",
        "output_arr = [inputArray[k] for k in filter_arr]\n",
        "print(output_arr)"
      ],
      "execution_count": 0,
      "outputs": [
        {
          "output_type": "stream",
          "text": [
            "[0, 3, 4]\n",
            "['aba', 'vcd', 'aba']\n"
          ],
          "name": "stdout"
        }
      ]
    }
  ]
}