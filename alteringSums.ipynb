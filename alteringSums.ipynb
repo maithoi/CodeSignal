{
  "nbformat": 4,
  "nbformat_minor": 0,
  "metadata": {
    "colab": {
      "name": "alteringSums.ipynb",
      "version": "0.3.2",
      "provenance": [],
      "include_colab_link": true
    },
    "kernelspec": {
      "name": "python3",
      "display_name": "Python 3"
    }
  },
  "cells": [
    {
      "cell_type": "markdown",
      "metadata": {
        "id": "view-in-github",
        "colab_type": "text"
      },
      "source": [
        "<a href=\"https://colab.research.google.com/github/maithoi/CodeSignal/blob/master/alteringSums.ipynb\" target=\"_parent\"><img src=\"https://colab.research.google.com/assets/colab-badge.svg\" alt=\"Open In Colab\"/></a>"
      ]
    },
    {
      "cell_type": "code",
      "metadata": {
        "id": "RZUCbL5CzCWN",
        "colab_type": "code",
        "colab": {
          "base_uri": "https://localhost:8080/",
          "height": 35
        },
        "outputId": "c23fab7d-a170-41fb-bd5d-e2319680385c"
      },
      "source": [
        "#define empty output list\n",
        "alter_sum = []\n",
        "aList = [100, 50, 50, 100]\n",
        "def getSumOdds(aList):\n",
        "    return sum(aList[i] for i in range(1,len(aList),2))\n",
        "\n",
        "second_sum = getSumOdds(aList)\n",
        "first_sum = sum(aList) - second_sum\n",
        "# print('second_sum:', second_sum)\n",
        "# print('first_sum:', first_sum)\n",
        "alter_sum = [first_sum, second_sum]\n",
        "print('output:', alter_sum)"
      ],
      "execution_count": 11,
      "outputs": [
        {
          "output_type": "stream",
          "text": [
            "output: [150, 150]\n"
          ],
          "name": "stdout"
        }
      ]
    }
  ]
}