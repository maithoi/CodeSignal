{
  "nbformat": 4,
  "nbformat_minor": 0,
  "metadata": {
    "colab": {
      "name": "Dropbox-incorrectPasscodeAttempts.ipynb",
      "version": "0.3.2",
      "provenance": [],
      "include_colab_link": true
    },
    "kernelspec": {
      "name": "python3",
      "display_name": "Python 3"
    }
  },
  "cells": [
    {
      "cell_type": "markdown",
      "metadata": {
        "id": "view-in-github",
        "colab_type": "text"
      },
      "source": [
        "<a href=\"https://colab.research.google.com/github/maithoi/CodeSignal/blob/challenges/Dropbox_incorrectPasscodeAttempts.ipynb\" target=\"_parent\"><img src=\"https://colab.research.google.com/assets/colab-badge.svg\" alt=\"Open In Colab\"/></a>"
      ]
    },
    {
      "cell_type": "code",
      "metadata": {
        "id": "HHP5Ym5unQLj",
        "colab_type": "code",
        "colab": {}
      },
      "source": [
        "attempts = [\"1111\", \"4444\",\n",
        "            \"9999\", \"3333\",\n",
        "            \"8888\", \"2222\",\n",
        "            \"7777\", \"0000\",\n",
        "            \"6666\", \"7285\",\n",
        "            \"5555\", \"1111\"]\n",
        "passcode = \"1111\"\n",
        "\n",
        "'''\n",
        "expected ouput \n",
        "incorrectPasscodeAttempts(passcode, attempts) = true\n",
        "'''\n",
        "#find 10 consecutive unmatching case \n",
        "#if case exists: return True\n",
        "#else: return False\n",
        "def incorrectPasscodeAttempts(passcode, attempts):\n",
        "    num_of_attempts = len(attempts)\n",
        "    for i in range(num_of_attempts - 10):\n",
        "        for j in range(i, i+10):\n",
        "            if attempts[j] != passcode:\n",
        "                return True\n",
        "            "
      ],
      "execution_count": 0,
      "outputs": []
    }
  ]
}