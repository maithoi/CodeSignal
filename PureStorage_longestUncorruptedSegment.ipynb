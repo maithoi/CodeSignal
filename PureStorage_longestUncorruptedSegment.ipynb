{
  "nbformat": 4,
  "nbformat_minor": 0,
  "metadata": {
    "colab": {
      "name": "PureStorage-longestUncorruptedSegment.ipynb",
      "version": "0.3.2",
      "provenance": [],
      "include_colab_link": true
    },
    "kernelspec": {
      "name": "python3",
      "display_name": "Python 3"
    }
  },
  "cells": [
    {
      "cell_type": "markdown",
      "metadata": {
        "id": "view-in-github",
        "colab_type": "text"
      },
      "source": [
        "<a href=\"https://colab.research.google.com/github/maithoi/CodeSignal/blob/challenges/PureStorage_longestUncorruptedSegment.ipynb\" target=\"_parent\"><img src=\"https://colab.research.google.com/assets/colab-badge.svg\" alt=\"Open In Colab\"/></a>"
      ]
    },
    {
      "cell_type": "markdown",
      "metadata": {
        "id": "Fc5r_nkg1ue7",
        "colab_type": "text"
      },
      "source": [
        "[Pure Storage Company Challenges](https://app.codesignal.com/company-challenges/purestorage/vfaESus49J4N9JHim)\n",
        "\n",
        "Given the content of the source and the migrated content of the target, find the length and the starting block of the longest uncorrupted data segment (segment = subsequent blocks).\n"
      ]
    },
    {
      "cell_type": "code",
      "metadata": {
        "id": "rrdj-scGJeW9",
        "colab_type": "code",
        "colab": {}
      },
      "source": [
        "\n",
        "def corruptedSegmentPosition(sourceArray, destinationArray):\n",
        "    # initial empty list contains corrupted position index\n",
        "    corrupted_position_idx = []\n",
        "    for i, j in zip(sourceArray[:], destinationArray[:]):\n",
        "        #find the different pairs of element \n",
        "        if i != j:\n",
        "            #list all corrupted element index\n",
        "            corrupted_idx = sourceArray.index(i)\n",
        "            corrupted_position_idx.append(corrupted_idx)\n",
        "    return corrupted_position_idx                    \n"
      ],
      "execution_count": 0,
      "outputs": []
    },
    {
      "cell_type": "code",
      "metadata": {
        "id": "oXgTqx-ndC92",
        "colab_type": "code",
        "colab": {}
      },
      "source": [
        "def longestUncorruptedSegment(sourceArray, destinationArray):\n",
        "\n",
        "    corrupted_position_idx = corruptedSegmentPosition(sourceArray, destinationArray)\n",
        "    print('corrupted_position_idx:', corrupted_position_idx)\n",
        "    \n",
        "    if len(corrupted_position_idx) == 1:\n",
        "        return [len(sourceArray) - (corrupted_position_idx[0] + 1), corrupted_position_idx[0] + 1]\n",
        "\n",
        "    elif len(corrupted_position_idx) == len(sourceArray):\n",
        "        return [0 , 0]\n",
        "    \n",
        "    else:\n",
        "        \n",
        "        consecutive_corrupted_position = list(zip(corrupted_position_idx, corrupted_position_idx[1:]+corrupted_position_idx[:1]))\n",
        "        print('consecutive_corrupted_position:', consecutive_corrupted_position)\n",
        "\n",
        "        compare_segment_length = []\n",
        "        for x, y in consecutive_corrupted_position:\n",
        "            compare_length = abs(y - x)\n",
        "            compare_segment_length.append(compare_length)\n",
        "\n",
        "        print('compare_segment_length:', compare_segment_length)\n",
        "\n",
        "        longest_segment_idx = compare_segment_length.index(max(compare_segment_length[:-1]))\n",
        "        print('longest_segment_idx:', longest_segment_idx)\n",
        "\n",
        "        # Expected Output\n",
        "        starting_block = consecutive_corrupted_position[longest_segment_idx][0] + 1\n",
        "        length = consecutive_corrupted_position[longest_segment_idx][1] - starting_block\n",
        "        longest_uncorrupted_segment = [length, starting_block]\n",
        "    \n",
        "    return longest_uncorrupted_segment\n",
        "        \n",
        "\n",
        "\n",
        "        "
      ],
      "execution_count": 0,
      "outputs": []
    },
    {
      "cell_type": "code",
      "metadata": {
        "id": "z8gxb2qeJpRx",
        "colab_type": "code",
        "colab": {}
      },
      "source": [
        "# Test 1 --> [4, 2]\n",
        "s1 = [33531593, 96933415, 28506400, 39457872, 29684716, 86010806]\n",
        "d1 = [33531593, 96913415, 28506400, 39457872, 29684716, 86010806]\n",
        "\n",
        "# Test 2 --> [0, 0]\n",
        "s2 = [10000000]\n",
        "d2 = [99999999]\n",
        "\n",
        "# Test 3 --> [7, 3] #Fail start_idx = len(s3)\n",
        "s3 = [20800440, 98256958, 64277103, 40475664, 98589505, 31621824, 84322264, 58283379, 15631261, 35464021]\n",
        "d3 = [20800440, 95256958, 64276103, 40475664, 98589505, 31621824, 84322264, 58283379, 15631261, 35464021]\n",
        "\n",
        "# Test 4 --> [0, 0]\n",
        "s4 = [28813641, 31985183, 49809398, 48959083, 59368847, 37296474, 92567090, 50320165, 12197477, 28906340]\n",
        "d4 = [38813641, 31983183, 49879398, 48959043, 59468847, 35296474, 92567020, 80320165, 14197477, 28906360]\n",
        "\n",
        "# Test 5 --> [4, 0] #Fail start_idx = 0\n",
        "s5 = [92988800, 80253955, 17396563, 91682092, 77708269, 97587946, 23889892, 20661856, 21013095, 92028000, 17562863, 86804822, 17819093, 97941923, 64955308]\n",
        "d5 = [92988800, 80253955, 17396563, 91682092, 77708229, 97587946, 23889892, 20661866, 21013095, 92928000, 17962863, 86804822, 14819093, 97241923, 62955308]\n",
        "\n",
        "# Test 6 --> [4, 6]\n",
        "s6 =  [99919628, 77504204, 18846830, 86785029, 86230362, 96953294, 53208680, 95327090, 68996760, 26366538, 90490275, 62583792, 87514087, 96921389, 21309822]\n",
        "d6 = [99919628, 77503204, 18546830, 86785029, 86230362, 96953264, 53208680, 95327090, 68996760, 26366538, 90420275, 62583792, 87514087, 39692139, 21303822]"
      ],
      "execution_count": 0,
      "outputs": []
    },
    {
      "cell_type": "code",
      "metadata": {
        "id": "ngZ7tByHUyuH",
        "colab_type": "code",
        "colab": {
          "base_uri": "https://localhost:8080/",
          "height": 128
        },
        "outputId": "037051dc-5d26-4f93-812d-3b1d8f482386"
      },
      "source": [
        "print('len(s3):', len(s3))\n",
        "longestUncorruptedSegment(s3, d3)"
      ],
      "execution_count": 139,
      "outputs": [
        {
          "output_type": "stream",
          "text": [
            "len(s3): 10\n",
            "corrupted_position_idx: [1, 2]\n",
            "consecutive_corrupted_position: [(1, 2), (2, 1)]\n",
            "compare_segment_length: [1, 1]\n",
            "longest_segment_idx: 0\n"
          ],
          "name": "stdout"
        },
        {
          "output_type": "execute_result",
          "data": {
            "text/plain": [
              "[0, 2]"
            ]
          },
          "metadata": {
            "tags": []
          },
          "execution_count": 139
        }
      ]
    },
    {
      "cell_type": "code",
      "metadata": {
        "id": "6hMdyzm3nKpp",
        "colab_type": "code",
        "colab": {
          "base_uri": "https://localhost:8080/",
          "height": 128
        },
        "outputId": "85881ec6-cd7b-4cfa-dc57-be7c0f2ef699"
      },
      "source": [
        "print('len(s5):', len(s5))\n",
        "longestUncorruptedSegment(s5, d5)"
      ],
      "execution_count": 138,
      "outputs": [
        {
          "output_type": "stream",
          "text": [
            "len(s5): 15\n",
            "corrupted_position_idx: [4, 7, 9, 10, 12, 13, 14]\n",
            "consecutive_corrupted_position: [(4, 7), (7, 9), (9, 10), (10, 12), (12, 13), (13, 14), (14, 4)]\n",
            "compare_segment_length: [3, 2, 1, 2, 1, 1, 10]\n",
            "longest_segment_idx: 0\n"
          ],
          "name": "stdout"
        },
        {
          "output_type": "execute_result",
          "data": {
            "text/plain": [
              "[2, 5]"
            ]
          },
          "metadata": {
            "tags": []
          },
          "execution_count": 138
        }
      ]
    },
    {
      "cell_type": "code",
      "metadata": {
        "id": "UdzFLNn5sqlF",
        "colab_type": "code",
        "colab": {
          "base_uri": "https://localhost:8080/",
          "height": 128
        },
        "outputId": "987efbe9-328f-470a-ae4d-ef53f31cf234"
      },
      "source": [
        "print('len(s6):', len(s6))\n",
        "longestUncorruptedSegment(s6, d6)"
      ],
      "execution_count": 140,
      "outputs": [
        {
          "output_type": "stream",
          "text": [
            "len(s6): 15\n",
            "corrupted_position_idx: [1, 2, 5, 10, 13, 14]\n",
            "consecutive_corrupted_position: [(1, 2), (2, 5), (5, 10), (10, 13), (13, 14), (14, 1)]\n",
            "compare_segment_length: [1, 3, 5, 3, 1, 13]\n",
            "longest_segment_idx: 2\n"
          ],
          "name": "stdout"
        },
        {
          "output_type": "execute_result",
          "data": {
            "text/plain": [
              "[4, 6]"
            ]
          },
          "metadata": {
            "tags": []
          },
          "execution_count": 140
        }
      ]
    },
    {
      "cell_type": "code",
      "metadata": {
        "id": "G8a4Wapg0i7_",
        "colab_type": "code",
        "colab": {}
      },
      "source": [
        ""
      ],
      "execution_count": 0,
      "outputs": []
    }
  ]
}