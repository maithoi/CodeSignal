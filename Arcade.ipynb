{
  "nbformat": 4,
  "nbformat_minor": 0,
  "metadata": {
    "colab": {
      "name": "Arcade.ipynb",
      "provenance": [],
      "authorship_tag": "ABX9TyPTT9L2EAuy9Ds0qXycwCYy",
      "include_colab_link": true
    },
    "kernelspec": {
      "name": "python3",
      "display_name": "Python 3"
    }
  },
  "cells": [
    {
      "cell_type": "markdown",
      "metadata": {
        "id": "view-in-github",
        "colab_type": "text"
      },
      "source": [
        "<a href=\"https://colab.research.google.com/github/maithoi/CodeSignal/blob/arcade/Arcade.ipynb\" target=\"_parent\"><img src=\"https://colab.research.google.com/assets/colab-badge.svg\" alt=\"Open In Colab\"/></a>"
      ]
    },
    {
      "cell_type": "markdown",
      "metadata": {
        "id": "K7WZviDiX9ei",
        "colab_type": "text"
      },
      "source": [
        "# [$Markdown$](https://colab.research.google.com/github/gitedio/examples/blob/master/Working%20With%20Markdown%20Cells.ipynb#scrollTo=BMwHlyDAUm9v)\n"
      ]
    },
    {
      "cell_type": "markdown",
      "metadata": {
        "id": "W9Xv9ijnx-9S",
        "colab_type": "text"
      },
      "source": [
        "## getPoints \n"
      ]
    },
    {
      "cell_type": "code",
      "metadata": {
        "id": "wkPvXgU7vss9",
        "colab_type": "code",
        "colab": {}
      },
      "source": [
        "def getPoints(answers, p):\n",
        "    # return a integer value corresponding with Ith index or penalty score \n",
        "    questionPoints = lambda i, ans: i+1 if ans else -p \n",
        "    res = 0\n",
        "    for i, ans in enumerate(answers):\n",
        "        res += questionPoints(i, ans)\n",
        "    return res"
      ],
      "execution_count": null,
      "outputs": []
    },
    {
      "cell_type": "code",
      "metadata": {
        "id": "fTff9fV7yRjC",
        "colab_type": "code",
        "colab": {
          "base_uri": "https://localhost:8080/",
          "height": 35
        },
        "outputId": "fc46ebc3-3b72-4482-c4d5-bd9e46444752"
      },
      "source": [
        "lst = [True, True, False, True]\n",
        "getPoints(lst, -2)"
      ],
      "execution_count": null,
      "outputs": [
        {
          "output_type": "execute_result",
          "data": {
            "text/plain": [
              "9"
            ]
          },
          "metadata": {
            "tags": []
          },
          "execution_count": 5
        }
      ]
    },
    {
      "cell_type": "markdown",
      "metadata": {
        "id": "6E9-1HsK4kUT",
        "colab_type": "text"
      },
      "source": [
        "## Is Test Solvable"
      ]
    },
    {
      "cell_type": "code",
      "metadata": {
        "id": "m9wxpKXiyVpe",
        "colab_type": "code",
        "colab": {}
      },
      "source": [
        "def isTestSolvable(ids, k):\n",
        "    digitSum = lambda number: 0 if number == 0 else (number % 10) + digitSum(number//10)\n",
        "\n",
        "    sm = 0\n",
        "    for questionId in ids:\n",
        "        sm += digitSum(questionId)\n",
        "    return sm % k == 0"
      ],
      "execution_count": null,
      "outputs": []
    },
    {
      "cell_type": "code",
      "metadata": {
        "id": "L4LxleAO4vkO",
        "colab_type": "code",
        "colab": {
          "base_uri": "https://localhost:8080/",
          "height": 35
        },
        "outputId": "7fb55436-ad9a-47f8-bfc1-3553488af466"
      },
      "source": [
        "101 / 10"
      ],
      "execution_count": null,
      "outputs": [
        {
          "output_type": "execute_result",
          "data": {
            "text/plain": [
              "10.1"
            ]
          },
          "metadata": {
            "tags": []
          },
          "execution_count": 14
        }
      ]
    },
    {
      "cell_type": "code",
      "metadata": {
        "id": "uMYXVe184zDG",
        "colab_type": "code",
        "colab": {
          "base_uri": "https://localhost:8080/",
          "height": 35
        },
        "outputId": "56b1b27a-e106-4a20-ee81-d6c834667ed9"
      },
      "source": [
        "101 // 10"
      ],
      "execution_count": null,
      "outputs": [
        {
          "output_type": "execute_result",
          "data": {
            "text/plain": [
              "10"
            ]
          },
          "metadata": {
            "tags": []
          },
          "execution_count": 13
        }
      ]
    },
    {
      "cell_type": "code",
      "metadata": {
        "id": "2ddouBGr43xh",
        "colab_type": "code",
        "colab": {
          "base_uri": "https://localhost:8080/",
          "height": 35
        },
        "outputId": "0d885c33-7cc4-4612-a470-7ecb9504c595"
      },
      "source": [
        "101 % 10"
      ],
      "execution_count": null,
      "outputs": [
        {
          "output_type": "execute_result",
          "data": {
            "text/plain": [
              "1"
            ]
          },
          "metadata": {
            "tags": []
          },
          "execution_count": 12
        }
      ]
    },
    {
      "cell_type": "markdown",
      "metadata": {
        "id": "VoTHc_tU86pk",
        "colab_type": "text"
      },
      "source": [
        "## Word Power "
      ]
    },
    {
      "cell_type": "code",
      "metadata": {
        "id": "7iDpE2oP882f",
        "colab_type": "code",
        "colab": {}
      },
      "source": [
        "def wordPower(word):\n",
        "    num = {ch:ord(word[idx]) &31 for idx, ch in enumerate(word)}\n",
        "    print(num)\n",
        "    return sum([num[ch] for ch in word])"
      ],
      "execution_count": null,
      "outputs": []
    },
    {
      "cell_type": "code",
      "metadata": {
        "id": "iz9tLREL8_d-",
        "colab_type": "code",
        "colab": {
          "base_uri": "https://localhost:8080/",
          "height": 53
        },
        "outputId": "17200256-feef-4bc5-dfeb-e0cba9adf4b4"
      },
      "source": [
        "wordPower('hello')"
      ],
      "execution_count": null,
      "outputs": [
        {
          "output_type": "stream",
          "text": [
            "{'h': 8, 'e': 5, 'l': 12, 'o': 15}\n"
          ],
          "name": "stdout"
        },
        {
          "output_type": "execute_result",
          "data": {
            "text/plain": [
              "52"
            ]
          },
          "metadata": {
            "tags": []
          },
          "execution_count": 26
        }
      ]
    },
    {
      "cell_type": "markdown",
      "metadata": {
        "id": "_AsLZ4J1QKVz",
        "colab_type": "text"
      },
      "source": [
        "# Day4 (30/6)\n",
        "## Cool Paris \n"
      ]
    },
    {
      "cell_type": "code",
      "metadata": {
        "id": "lEz4IWDIQMKL",
        "colab_type": "code",
        "colab": {}
      },
      "source": [
        "def coolPairs(a, b):\n",
        "    uniqueSums = {(i+j) for i in a for j in b if (i*j) % (i+j) ==0}\n",
        "    return len(uniqueSums)\n"
      ],
      "execution_count": null,
      "outputs": []
    },
    {
      "cell_type": "code",
      "metadata": {
        "id": "X-5h2SebUNVe",
        "colab_type": "code",
        "colab": {}
      },
      "source": [
        "a = [4, 5, 6, 7, 8]\n",
        "b = [8, 9, 10, 11, 12]"
      ],
      "execution_count": null,
      "outputs": []
    },
    {
      "cell_type": "code",
      "metadata": {
        "id": "CexZf4zeURNZ",
        "colab_type": "code",
        "colab": {
          "base_uri": "https://localhost:8080/",
          "height": 35
        },
        "outputId": "2016901f-57be-4498-dde5-1fd9faac1e0a"
      },
      "source": [
        "coolPairs(a, b)"
      ],
      "execution_count": null,
      "outputs": [
        {
          "output_type": "execute_result",
          "data": {
            "text/plain": [
              "2"
            ]
          },
          "metadata": {
            "tags": []
          },
          "execution_count": 7
        }
      ]
    },
    {
      "cell_type": "markdown",
      "metadata": {
        "id": "MnhVp7zZUyot",
        "colab_type": "text"
      },
      "source": [
        "## Multiplication Table \n",
        "```\n",
        "\n",
        "multiplicationTable(n) = [[1, 2,  3,  4,  5 ], \n",
        "                          [2, 4,  6,  8,  10], \n",
        "                          [3, 6,  9,  12, 15], \n",
        "                          [4, 8,  12, 16, 20], \n",
        "                          [5, 10, 15, 20, 25]]\n",
        "\n",
        "```\n",
        "\n",
        "* Multiplication table of size `n × n`, i.e. a square matrix that has value `i * j` at the intersection of the ith row and the jth column (both 1-based).\n"
      ]
    },
    {
      "cell_type": "code",
      "metadata": {
        "id": "TjFPP-vfUW0e",
        "colab_type": "code",
        "colab": {}
      },
      "source": [
        "def multiplicationTable(n):\n",
        "    return [[(i+1)*(j+1) for j in range(n)] for i in range(n)]"
      ],
      "execution_count": null,
      "outputs": []
    },
    {
      "cell_type": "code",
      "metadata": {
        "id": "CAv8r8WGW8cl",
        "colab_type": "code",
        "colab": {
          "base_uri": "https://localhost:8080/",
          "height": 107
        },
        "outputId": "61168f36-da96-415e-cf23-7fa277424522"
      },
      "source": [
        "multiplicationTable(5)"
      ],
      "execution_count": null,
      "outputs": [
        {
          "output_type": "execute_result",
          "data": {
            "text/plain": [
              "[[1, 2, 3, 4, 5],\n",
              " [2, 4, 6, 8, 10],\n",
              " [3, 6, 9, 12, 15],\n",
              " [4, 8, 12, 16, 20],\n",
              " [5, 10, 15, 20, 25]]"
            ]
          },
          "metadata": {
            "tags": []
          },
          "execution_count": 11
        }
      ]
    },
    {
      "cell_type": "markdown",
      "metadata": {
        "id": "iX-O1fF8YREs",
        "colab_type": "text"
      },
      "source": [
        "# Dictionaries "
      ]
    },
    {
      "cell_type": "markdown",
      "metadata": {
        "id": "a0vN5KQRcY4R",
        "colab_type": "text"
      },
      "source": [
        "## Unique Characters \n",
        "\n",
        "* Sort input string in ascending order by their ASCII codes\n",
        "    - To get the ASCII code of character \n",
        "in python3 we used `ord()` function\n",
        "\n",
        "    - [Get sorted using Lambda function](https://dev.to/zmbailey/getting-sorted-part-3-python-and-lambda-functions-28ij)\n",
        "\n",
        "\n",
        "### Examples\n",
        "\n",
        "For `document = \"Todd told Tom to trot to the timber\"`,\n",
        "the output should be\n",
        "`uniqueCharacters(document) = [' ', 'T', 'b', 'd', 'e', 'h', 'i', 'l', 'm', 'o', 'r', 't']`.\n",
        "\n",
        "\n"
      ]
    },
    {
      "cell_type": "code",
      "metadata": {
        "id": "RVytT7h3W-Nq",
        "colab_type": "code",
        "colab": {}
      },
      "source": [
        "def uniqueCharacters(document):\n",
        "    return [char for char in sorted(list(set(document)), key=lambda x: ord(x))]\n"
      ],
      "execution_count": null,
      "outputs": []
    },
    {
      "cell_type": "code",
      "metadata": {
        "id": "pJo6aA5ddkzO",
        "colab_type": "code",
        "colab": {
          "base_uri": "https://localhost:8080/",
          "height": 35
        },
        "outputId": "5470ae26-8f04-40f3-d412-a5f31e5ff3da"
      },
      "source": [
        "document = \"Todd told Tom to trot to the timber\"\n",
        "uniqueCharacters(document)"
      ],
      "execution_count": null,
      "outputs": [
        {
          "output_type": "execute_result",
          "data": {
            "text/plain": [
              "[' ', 'T', 'b', 'd', 'e', 'h', 'i', 'l', 'm', 'o', 'r', 't']"
            ]
          },
          "metadata": {
            "tags": []
          },
          "execution_count": 14
        }
      ]
    },
    {
      "cell_type": "markdown",
      "metadata": {
        "id": "wYvZF6g0v_Px",
        "colab_type": "text"
      },
      "source": [
        "# Day5 (1/7)"
      ]
    },
    {
      "cell_type": "markdown",
      "metadata": {
        "id": "516pKq6Mwq_A",
        "colab_type": "text"
      },
      "source": [
        "## Fix Result \n",
        "* Using map() function to apply another calculation to a given list"
      ]
    },
    {
      "cell_type": "code",
      "metadata": {
        "id": "FRLcS-vKwE23",
        "colab_type": "code",
        "colab": {}
      },
      "source": [
        "def fixResult(result):\n",
        "    def fix(x):\n",
        "        return x // 10\n",
        "\n",
        "    return list(map(fix, result))"
      ],
      "execution_count": 1,
      "outputs": []
    },
    {
      "cell_type": "code",
      "metadata": {
        "id": "0t9Zl9Wiyalp",
        "colab_type": "code",
        "colab": {
          "base_uri": "https://localhost:8080/",
          "height": 35
        },
        "outputId": "d2dec7eb-3ce5-4326-973e-482042e3f3af"
      },
      "source": [
        "result = [1, 10, 21, 22, 30]\n",
        "fixResult(result)"
      ],
      "execution_count": 4,
      "outputs": [
        {
          "output_type": "execute_result",
          "data": {
            "text/plain": [
              "[0, 1, 2, 2, 3]"
            ]
          },
          "metadata": {
            "tags": []
          },
          "execution_count": 4
        }
      ]
    },
    {
      "cell_type": "markdown",
      "metadata": {
        "id": "EKDX-Tkwx1c7",
        "colab_type": "text"
      },
      "source": [
        "## College Courses \n",
        "Given a list of `courses`, remove the courses with titles consisting of `x` letters and return the result.\n",
        "\n",
        "For `x = 7` and\n",
        "`courses = [\"Art\", \"Finance\", \"Business\", \"Speech\", \"History\", \"Writing\", \"Statistics\"]`,\n",
        "the output should be\n",
        "`collegeCourses(x, courses) = [\"Art\", \"Business\", \"Speech\", \"Statistics\"]`.\n"
      ]
    },
    {
      "cell_type": "code",
      "metadata": {
        "id": "oA9u0vPtxL8x",
        "colab_type": "code",
        "colab": {}
      },
      "source": [
        "def collegeCourses(x, courses):\n",
        "    def shouldConsider(course):\n",
        "        return len(course) != x\n",
        "\n",
        "    return list(filter(shouldConsider, courses))"
      ],
      "execution_count": 2,
      "outputs": []
    },
    {
      "cell_type": "code",
      "metadata": {
        "id": "A-7vZvcfyRhs",
        "colab_type": "code",
        "colab": {
          "base_uri": "https://localhost:8080/",
          "height": 35
        },
        "outputId": "1cdf6d68-8718-4989-d39c-f8f2841b0843"
      },
      "source": [
        "courses = [\"Art\", \"Finance\", \"Business\", \"Speech\", \"History\", \"Writing\", \"Statistics\"]\n",
        "collegeCourses(7, courses)"
      ],
      "execution_count": 3,
      "outputs": [
        {
          "output_type": "execute_result",
          "data": {
            "text/plain": [
              "['Art', 'Business', 'Speech', 'Statistics']"
            ]
          },
          "metadata": {
            "tags": []
          },
          "execution_count": 3
        }
      ]
    },
    {
      "cell_type": "markdown",
      "metadata": {
        "id": "9YIH6iVK0TDl",
        "colab_type": "text"
      },
      "source": [
        "## Create Histogram\n",
        "For `ch = '*'` and `assignments = [12, 12, 14, 3, 12, 15, 14]`,\n",
        "the output should be\n",
        "\n",
        "```\n",
        "createHistogram(ch, assignments) = [\"************\",\n",
        "                                    \"************\",\n",
        "                                    \"**************\",\n",
        "                                    \"***\",\n",
        "                                    \"************\",\n",
        "                                    \"***************\",\n",
        "                                    \"**************\"]\n",
        "```"
      ]
    },
    {
      "cell_type": "code",
      "metadata": {
        "id": "Vxm3ESiHyX2l",
        "colab_type": "code",
        "colab": {}
      },
      "source": [
        "def createHistogram(ch, assignments):\n",
        "    return list(map(lambda i: ch*i, assignments))"
      ],
      "execution_count": 5,
      "outputs": []
    },
    {
      "cell_type": "code",
      "metadata": {
        "id": "2EwUA94u0iUp",
        "colab_type": "code",
        "colab": {
          "base_uri": "https://localhost:8080/",
          "height": 35
        },
        "outputId": "22560ad0-b7a8-4ccf-f0b2-d2b9df4c89f6"
      },
      "source": [
        "ch = '$'\n",
        "assignments = [1, 5, 10, 15, 20]\n",
        "createHistogram(ch, assignments)"
      ],
      "execution_count": 9,
      "outputs": [
        {
          "output_type": "execute_result",
          "data": {
            "text/plain": [
              "['$', '$$$$$', '$$$$$$$$$$', '$$$$$$$$$$$$$$$', '$$$$$$$$$$$$$$$$$$$$']"
            ]
          },
          "metadata": {
            "tags": []
          },
          "execution_count": 9
        }
      ]
    },
    {
      "cell_type": "markdown",
      "metadata": {
        "id": "8ChyQlOC1fly",
        "colab_type": "text"
      },
      "source": [
        "## Least Common Denominator \n",
        "For `denominators = [2, 3, 4, 5, 6]`, the output should be\n",
        "`leastCommonDenominator(denominators) = 60`."
      ]
    },
    {
      "cell_type": "code",
      "metadata": {
        "id": "dRmAjg8w0udK",
        "colab_type": "code",
        "colab": {}
      },
      "source": [
        "# Function to calculate LCM\n",
        "#Least common multiple (LCM) of numbers a and b is defined as the smallest number that is divisible by both a and b.\n",
        "def lcm(x, y):\n",
        "    from fractions import gcd # or can import gcd from `math` in Python 3\n",
        "    return x * y // gcd(x, y)"
      ],
      "execution_count": 10,
      "outputs": []
    },
    {
      "cell_type": "markdown",
      "metadata": {
        "id": "rn-pz31B6EYB",
        "colab_type": "text"
      },
      "source": [
        "For the given list of `denominators`, find the least common denominator by finding their `LCM`."
      ]
    },
    {
      "cell_type": "code",
      "metadata": {
        "id": "G9S-EIvq6sgz",
        "colab_type": "code",
        "colab": {},
        "cellView": "code"
      },
      "source": [
        "# Find LCM using GCD (Greatest Common Divisor) in the MATH library \n",
        "def lcm(a, b):\n",
        "    return abs(a*b) // math.gcd(a, b)"
      ],
      "execution_count": 15,
      "outputs": []
    },
    {
      "cell_type": "code",
      "metadata": {
        "id": "XtX_t_kY5r5V",
        "colab_type": "code",
        "colab": {}
      },
      "source": [
        "import functools\n",
        "import math\n",
        "from fractions import gcd\n",
        "\n",
        "def leastCommonDenominator(denominators):\n",
        "    return functools.reduce(lambda x,y:abs(x*y) // math.gcd(x, y), denominators)"
      ],
      "execution_count": 18,
      "outputs": []
    },
    {
      "cell_type": "code",
      "metadata": {
        "id": "PgIA5yAk6UFL",
        "colab_type": "code",
        "colab": {
          "base_uri": "https://localhost:8080/",
          "height": 35
        },
        "outputId": "cedda707-2b23-47cc-d28b-693c0966f664"
      },
      "source": [
        "denominators = [2, 3, 4, 5, 6]\n",
        "leastCommonDenominator(denominators)"
      ],
      "execution_count": 19,
      "outputs": [
        {
          "output_type": "execute_result",
          "data": {
            "text/plain": [
              "60"
            ]
          },
          "metadata": {
            "tags": []
          },
          "execution_count": 19
        }
      ]
    }
  ]
}