{
  "nbformat": 4,
  "nbformat_minor": 0,
  "metadata": {
    "colab": {
      "name": "Copy of Quora-mostViewdWriters.ipynb",
      "version": "0.3.2",
      "provenance": [],
      "include_colab_link": true
    },
    "kernelspec": {
      "name": "python3",
      "display_name": "Python 3"
    }
  },
  "cells": [
    {
      "cell_type": "markdown",
      "metadata": {
        "id": "view-in-github",
        "colab_type": "text"
      },
      "source": [
        "<a href=\"https://colab.research.google.com/github/maithoi/CodeSignal/blob/challenges/Copy_of_Quora_mostViewdWriters.ipynb\" target=\"_parent\"><img src=\"https://colab.research.google.com/assets/colab-badge.svg\" alt=\"Open In Colab\"/></a>"
      ]
    },
    {
      "cell_type": "code",
      "metadata": {
        "id": "y-XvlKoQOrju",
        "colab_type": "code",
        "outputId": "1c57b3f5-ce23-48ee-bceb-d3d0c944b00d",
        "colab": {
          "base_uri": "https://localhost:8080/",
          "height": 55
        }
      },
      "source": [
        "#defined input variable\n",
        "topicIds = [[1, 2, 3], [2, 3, 4], [1, 4], [2, 3]]\n",
        "answerIds = [[6, 4], [1, 2], [5], [3]]\n",
        "views = [[2, 1, 2], [6, 3, 5], [3, 3, 0], [5, 1, 1], [4, 2, 3], [1, 4, 2]]\n",
        "'''\n",
        "write a function takes three given input variables and return \n",
        "the output is the most number_of_view of each user_id for each specificed topic_id\n",
        "\n",
        "the corresponding output for the given input should return like this.\n",
        "mostViewedWriters(topicIds, answerIds, views) = [\n",
        "    [[3, 5], [2, 3], [1, 1]],\n",
        "    [[3, 5], [2, 3], [1, 2], [4, 2]],\n",
        "    [[3, 5], [2, 3], [1, 2], [4, 2]],\n",
        "    [[1, 3], [4, 2]]\n",
        "]\n",
        "'''"
      ],
      "execution_count": 14,
      "outputs": [
        {
          "output_type": "execute_result",
          "data": {
            "text/plain": [
              "'\\nwrite a function takes three given input variables and return \\nthe output is the most number_of_view of each user_id for each specificed topic_id\\n\\nthe corresponding output for the given input should return like this.\\nmostViewedWriters(topicIds, answerIds, views) = [\\n    [[3, 5], [2, 3], [1, 1]],\\n    [[3, 5], [2, 3], [1, 2], [4, 2]],\\n    [[3, 5], [2, 3], [1, 2], [4, 2]],\\n    [[1, 3], [4, 2]]\\n]\\n'"
            ]
          },
          "metadata": {
            "tags": []
          },
          "execution_count": 14
        }
      ]
    },
    {
      "cell_type": "code",
      "metadata": {
        "id": "IepqlgApTvij",
        "colab_type": "code",
        "outputId": "4906297a-9e98-4462-de67-7b44e5dede79",
        "colab": {
          "base_uri": "https://localhost:8080/",
          "height": 53
        }
      },
      "source": [
        "print(type(topicIds))\n",
        "flat_list = [item for sublist in topicIds for item in sublist]\n",
        "print(flat_list)"
      ],
      "execution_count": 15,
      "outputs": [
        {
          "output_type": "stream",
          "text": [
            "<class 'list'>\n",
            "[1, 2, 3, 2, 3, 4, 1, 4, 2, 3]\n"
          ],
          "name": "stdout"
        }
      ]
    },
    {
      "cell_type": "code",
      "metadata": {
        "id": "k1AeV9wtRndc",
        "colab_type": "code",
        "outputId": "c30f1539-d30b-45b8-acff-8380c51a8bb0",
        "colab": {
          "base_uri": "https://localhost:8080/",
          "height": 35
        }
      },
      "source": [
        "#function to list all the unique topicIds\n",
        "def list_unique_topicIds(topicIds):\n",
        "    flat_list = [item for sublist in topicIds for item in sublist]\n",
        "    unique_topicIds = set(flat_list)\n",
        "    return unique_topicIds    \n",
        "set_topicIds = list_unique_topicIds(topicIds)\n",
        "print(set_topicIds)"
      ],
      "execution_count": 16,
      "outputs": [
        {
          "output_type": "stream",
          "text": [
            "{1, 2, 3, 4}\n"
          ],
          "name": "stdout"
        }
      ]
    },
    {
      "cell_type": "code",
      "metadata": {
        "id": "RYJrzkR62VsG",
        "colab_type": "code",
        "outputId": "7acc5f37-9d9c-4fbf-a17e-b631e82eaf8f",
        "colab": {
          "base_uri": "https://localhost:8080/",
          "height": 35
        }
      },
      "source": [
        "l = [['apple','banana','kiwi'],['chair','table','spoon']]\n",
        "def findItem(theList, item):\n",
        "#    return [(ind, theList[ind].index(item)) for ind in range(len(theList)) if item in theList[ind]]\n",
        "    return [ind for ind in range(len(theList)) if item in theList[ind]]\n",
        "# findItem(l, 'apple') # [(0, 0)]\n",
        "findItem(l, 'spoon') # [(1, 2)]"
      ],
      "execution_count": 17,
      "outputs": [
        {
          "output_type": "execute_result",
          "data": {
            "text/plain": [
              "[1]"
            ]
          },
          "metadata": {
            "tags": []
          },
          "execution_count": 17
        }
      ]
    },
    {
      "cell_type": "code",
      "metadata": {
        "id": "FYlcGFgODjCF",
        "colab_type": "code",
        "colab": {
          "base_uri": "https://localhost:8080/",
          "height": 35
        },
        "outputId": "fc6034eb-6977-49ba-e987-3f938df6d7fb"
      },
      "source": [
        "def find_index_topicIds(theList, set_topicIds):\n",
        "    list_idx = []\n",
        "    for item in set_topicIds:\n",
        "        tpid_at_idx = findItem(theList, item)\n",
        "        list_idx.append(tpid_at_idx)\n",
        "    return list_idx\n",
        "#test\n",
        "position_of_topicIds = find_index_topicIds(topicIds, set_topicIds)\n",
        "print('position_of_topicIds:', position_of_topicIds)\n"
      ],
      "execution_count": 20,
      "outputs": [
        {
          "output_type": "stream",
          "text": [
            "position_of_topicIds: [[0, 2], [0, 1, 3], [0, 1, 3], [1, 2]]\n"
          ],
          "name": "stdout"
        }
      ]
    },
    {
      "cell_type": "code",
      "metadata": {
        "id": "JmifMh9AL1fg",
        "colab_type": "code",
        "colab": {
          "base_uri": "https://localhost:8080/",
          "height": 35
        },
        "outputId": "596a8d53-acf6-4753-b9ea-3a67560bc353"
      },
      "source": [
        "#function to get answerIds corresponding to position of topidIds\n",
        "def get_list_answerIds_corresponding_to_topicIds(theList, position):\n",
        "    list_answerIds = [[theList[subIdx] for subIdx in idx] for idx in position]\n",
        "    #flaten the item at each index\n",
        "    # print('flatten_list_answerIds:', flatten_list_answerIds)\n",
        "    #given a list of lists: l\n",
        "    flatten_list_answerIds = [[item for sublist in l for item in sublist] for l in list_answerIds]\n",
        "    return flatten_list_answerIds\n",
        "# test\n",
        "flatten_list_answerIds = get_list_answerIds_corresponding_to_topicIds(answerIds, position_of_topicIds)\n",
        "print('flatten_list_answerIds:', flatten_list_answerIds)"
      ],
      "execution_count": 51,
      "outputs": [
        {
          "output_type": "stream",
          "text": [
            "flatten_list_answerIds: [[6, 4, 5], [6, 4, 1, 2, 3], [6, 4, 1, 2, 3], [1, 2, 5]]\n"
          ],
          "name": "stdout"
        }
      ]
    },
    {
      "cell_type": "code",
      "metadata": {
        "id": "ZLl9avgCPQN8",
        "colab_type": "code",
        "colab": {}
      },
      "source": [
        "'''\n",
        "with given array(views) --> find all such views[i] that views[i][0] is one of our answer IDs\n",
        "array(views) --> [answerIds, Number_of_Views, User_Id]\n",
        "'''\n"
      ],
      "execution_count": 0,
      "outputs": []
    }
  ]
}