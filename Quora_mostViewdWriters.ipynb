{
  "nbformat": 4,
  "nbformat_minor": 0,
  "metadata": {
    "colab": {
      "name": "Quora-mostViewdWriters.ipynb",
      "version": "0.3.2",
      "provenance": [],
      "include_colab_link": true
    },
    "kernelspec": {
      "name": "python3",
      "display_name": "Python 3"
    }
  },
  "cells": [
    {
      "cell_type": "markdown",
      "metadata": {
        "id": "view-in-github",
        "colab_type": "text"
      },
      "source": [
        "<a href=\"https://colab.research.google.com/github/maithoi/CodeSignal/blob/master/Quora_mostViewdWriters.ipynb\" target=\"_parent\"><img src=\"https://colab.research.google.com/assets/colab-badge.svg\" alt=\"Open In Colab\"/></a>"
      ]
    },
    {
      "cell_type": "code",
      "metadata": {
        "id": "y-XvlKoQOrju",
        "colab_type": "code",
        "colab": {
          "base_uri": "https://localhost:8080/",
          "height": 55
        },
        "outputId": "0beb5b27-8e0d-497f-a417-2cf0a067dfab"
      },
      "source": [
        "# defined input variable\n",
        "topicIds = [[1, 2, 3], [2, 3, 4], [1, 4], [2, 3]]\n",
        "answerIds = [[6, 4], [1, 2], [5], [3]]\n",
        "views = [[2, 1, 2], [6, 3, 5], [3, 3, 0], [5, 1, 1], [4, 2, 3], [1, 4, 2]]\n",
        "'''\n",
        "write a function takes three given input variables and return \n",
        "the output is the most number_of_view of each user_id for each specificed topic_id\n",
        "\n",
        "the corresponding output for the given input should return like this.\n",
        "mostViewedWriters(topicIds, answerIds, views) = [\n",
        "    [[3, 5], [2, 3], [1, 1]],\n",
        "    [[3, 5], [2, 3], [1, 2], [4, 2]],\n",
        "    [[3, 5], [2, 3], [1, 2], [4, 2]],\n",
        "    [[1, 3], [4, 2]]\n",
        "]\n",
        "'''"
      ],
      "execution_count": 1,
      "outputs": [
        {
          "output_type": "execute_result",
          "data": {
            "text/plain": [
              "'\\nwrite a function takes three given input variables and return \\nthe output is the most number_of_view of each user_id for each specificed topic_id\\n\\nthe corresponding output for the given input should return like this.\\nmostViewedWriters(topicIds, answerIds, views) = [\\n    [[3, 5], [2, 3], [1, 1]],\\n    [[3, 5], [2, 3], [1, 2], [4, 2]],\\n    [[3, 5], [2, 3], [1, 2], [4, 2]],\\n    [[1, 3], [4, 2]]\\n]\\n'"
            ]
          },
          "metadata": {
            "tags": []
          },
          "execution_count": 1
        }
      ]
    },
    {
      "cell_type": "code",
      "metadata": {
        "id": "IepqlgApTvij",
        "colab_type": "code",
        "colab": {
          "base_uri": "https://localhost:8080/",
          "height": 53
        },
        "outputId": "036ee979-49b4-495d-c7a0-683c48009238"
      },
      "source": [
        "print(type(topicIds))\n",
        "flat_list = [item for sublist in topicIds for item in sublist]\n",
        "print(flat_list)"
      ],
      "execution_count": 2,
      "outputs": [
        {
          "output_type": "stream",
          "text": [
            "<class 'list'>\n",
            "[1, 2, 3, 2, 3, 4, 1, 4, 2, 3]\n"
          ],
          "name": "stdout"
        }
      ]
    },
    {
      "cell_type": "code",
      "metadata": {
        "id": "k1AeV9wtRndc",
        "colab_type": "code",
        "colab": {
          "base_uri": "https://localhost:8080/",
          "height": 35
        },
        "outputId": "4aa111da-f056-4f0e-8a48-7fcec1caff2a"
      },
      "source": [
        "# function to list all the unique topicIds\n",
        "def list_unique_topicIds(topicIds):\n",
        "    flat_list = [item for sublist in topicIds for item in sublist]\n",
        "    unique_topicIds = set(flat_list)\n",
        "    return unique_topicIds    \n",
        "set_topicIds = list_unique_topicIds(topicIds)\n",
        "print(set_topicIds)"
      ],
      "execution_count": 3,
      "outputs": [
        {
          "output_type": "stream",
          "text": [
            "{1, 2, 3, 4}\n"
          ],
          "name": "stdout"
        }
      ]
    },
    {
      "cell_type": "code",
      "metadata": {
        "id": "RYJrzkR62VsG",
        "colab_type": "code",
        "colab": {
          "base_uri": "https://localhost:8080/",
          "height": 35
        },
        "outputId": "bfc5de55-9bf2-468f-b07c-deefb15b0860"
      },
      "source": [
        "l = [['apple','banana','kiwi'],['chair','table','spoon']]\n",
        "def findItem(theList, item):\n",
        "    # return [(ind, theList[ind].index(item)) for ind in range(len(theList)) if item in theList[ind]]\n",
        "    return [ind for ind in range(len(theList)) if item in theList[ind]]\n",
        "# findItem(l, 'apple') # [(0, 0)]\n",
        "findItem(l, 'spoon') # [(1, 2)]"
      ],
      "execution_count": 4,
      "outputs": [
        {
          "output_type": "execute_result",
          "data": {
            "text/plain": [
              "[1]"
            ]
          },
          "metadata": {
            "tags": []
          },
          "execution_count": 4
        }
      ]
    },
    {
      "cell_type": "code",
      "metadata": {
        "id": "FYlcGFgODjCF",
        "colab_type": "code",
        "colab": {
          "base_uri": "https://localhost:8080/",
          "height": 35
        },
        "outputId": "73cdd0b5-a52e-4670-e6c5-882dff26d547"
      },
      "source": [
        "def find_index_topicIds(theList, set_topicIds):\n",
        "    list_idx = []\n",
        "    for item in set_topicIds:\n",
        "        tpid_at_idx = findItem(theList, item)\n",
        "        list_idx.append(tpid_at_idx)\n",
        "    return list_idx\n",
        "#test\n",
        "position_of_topicIds = find_index_topicIds(topicIds, set_topicIds)\n",
        "print('position_of_topicIds:', position_of_topicIds)\n"
      ],
      "execution_count": 5,
      "outputs": [
        {
          "output_type": "stream",
          "text": [
            "position_of_topicIds: [[0, 2], [0, 1, 3], [0, 1, 3], [1, 2]]\n"
          ],
          "name": "stdout"
        }
      ]
    },
    {
      "cell_type": "code",
      "metadata": {
        "id": "JmifMh9AL1fg",
        "colab_type": "code",
        "colab": {
          "base_uri": "https://localhost:8080/",
          "height": 35
        },
        "outputId": "bd643ba0-181e-4d71-f938-f2630c7aa4de"
      },
      "source": [
        "# function to get answerIds corresponding to position of topidIds\n",
        "def get_list_answerIds_corresponding_to_topicIds(theList, position):\n",
        "    list_answerIds = [[theList[subIdx] for subIdx in idx] for idx in position]\n",
        "    # flaten the item at each index\n",
        "    flatten_list_answerIds = [[item for sublist in l for item in sublist] for l in list_answerIds]\n",
        "    return flatten_list_answerIds\n",
        "# test\n",
        "flatten_list_answerIds = get_list_answerIds_corresponding_to_topicIds(answerIds, position_of_topicIds)\n",
        "print('flatten_list_answerIds:', flatten_list_answerIds)"
      ],
      "execution_count": 6,
      "outputs": [
        {
          "output_type": "stream",
          "text": [
            "flatten_list_answerIds: [[6, 4, 5], [6, 4, 1, 2, 3], [6, 4, 1, 2, 3], [1, 2, 5]]\n"
          ],
          "name": "stdout"
        }
      ]
    },
    {
      "cell_type": "code",
      "metadata": {
        "id": "ZLl9avgCPQN8",
        "colab_type": "code",
        "colab": {}
      },
      "source": [
        "'''\n",
        "with given array(views) --> find all such views[i] that views[i][0] is one of our answer IDs\n",
        "array(views) --> [answerIds, Number_of_Views, User_Id]\n",
        "\n",
        "# input\n",
        "flatten_list_answerIds = [[6, 4, 5], [6, 4, 1, 2, 3], [6, 4, 1, 2, 3], [1, 2, 5]]\n",
        "views = [[2, 1, 2], [6, 3, 5], [3, 3, 0], [5, 1, 1], [4, 2, 3], [1, 4, 2]]\n",
        "\n",
        "# output\n",
        "mostViewedWriters(topicIds, answerIds, views) = [\n",
        "    [[3, 5], [2, 3], [1, 1]],\n",
        "    [[3, 5], [2, 3], [1, 2], [4, 2]],\n",
        "    [[3, 5], [2, 3], [1, 2], [4, 2]],\n",
        "    [[1, 3], [4, 2]]\n",
        "]\n",
        "'''\n",
        "\n",
        "def get_user_id_and_views(list_views, list_answerIds):\n",
        "    user_id_list = [\n",
        "        [[list_views[idx][1], list_views[idx][2]] for idx in range(len(list_views)) \n",
        "        if list_views[idx][0] in sublist] for sublist in list_answerIds\n",
        "        ]\n",
        "    return user_id_list\n",
        "# test\n",
        "get_user_id_and_views(views, flatten_list_answerIds)\n",
        "list_userIDs_and_views = get_user_id_and_views(views, flatten_list_answerIds)\n",
        "# print('list_userIDs_and_views:', list_userIDs_and_views)\n"
      ],
      "execution_count": 0,
      "outputs": []
    },
    {
      "cell_type": "code",
      "metadata": {
        "id": "yuj7RiMyLeuq",
        "colab_type": "code",
        "colab": {
          "base_uri": "https://localhost:8080/",
          "height": 89
        },
        "outputId": "ca6addf7-0963-4ab0-ae8e-fa55d21db3b4"
      },
      "source": [
        "'''\n",
        "when the user_id replicates then we sum up all the views of that user --> DONE!\n",
        "input:list_userIDs_and_views <-- theList\n",
        "[[[3, 5], [1, 1], [2, 3]],\n",
        " [[1, 2], [3, 5], [3, 0], [2, 3], [4, 2]],\n",
        " [[1, 2], [3, 5], [3, 0], [2, 3], [4, 2]],\n",
        " [[1, 2], [1, 1], [4, 2]]]\n",
        "\n",
        "'''\n",
        "\n",
        "from collections import defaultdict\n",
        "\n",
        "def handle_replicate_user_id(theList):\n",
        "    result = [] \n",
        "    for i in theList:\n",
        "        r = defaultdict(int)\n",
        "        for j, k in i:\n",
        "            r[j] += k\n",
        "        result.append(list(r.items()))\n",
        "    \n",
        "    return result\n",
        "\n",
        "# handled repicate <<== expected output\n",
        "handle_replicate_user_id(list_userIDs_and_views)\n"
      ],
      "execution_count": 11,
      "outputs": [
        {
          "output_type": "execute_result",
          "data": {
            "text/plain": [
              "[[(3, 5), (1, 1), (2, 3)],\n",
              " [(1, 2), (3, 5), (2, 3), (4, 2)],\n",
              " [(1, 2), (3, 5), (2, 3), (4, 2)],\n",
              " [(1, 3), (4, 2)]]"
            ]
          },
          "metadata": {
            "tags": []
          },
          "execution_count": 11
        }
      ]
    }
  ]
}