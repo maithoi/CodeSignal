{
  "nbformat": 4,
  "nbformat_minor": 0,
  "metadata": {
    "colab": {
      "name": "Quora-mostViewdWriters.ipynb",
      "version": "0.3.2",
      "provenance": [],
      "include_colab_link": true
    },
    "kernelspec": {
      "name": "python3",
      "display_name": "Python 3"
    }
  },
  "cells": [
    {
      "cell_type": "markdown",
      "metadata": {
        "id": "view-in-github",
        "colab_type": "text"
      },
      "source": [
        "<a href=\"https://colab.research.google.com/github/maithoi/CodeSignal/blob/challenges/Quora_mostViewdWriters.ipynb\" target=\"_parent\"><img src=\"https://colab.research.google.com/assets/colab-badge.svg\" alt=\"Open In Colab\"/></a>"
      ]
    },
    {
      "cell_type": "code",
      "metadata": {
        "id": "y-XvlKoQOrju",
        "colab_type": "code",
        "colab": {}
      },
      "source": [
        "#defined input variable\n",
        "topicIds = [[1, 2, 3], [2, 3, 4], [1, 4], [2, 3]]\n",
        "answerIds = [[6, 4], [1, 2], [5], [3]]\n",
        "views = [[2, 1, 2], [6, 3, 5], [3, 3, 0], [5, 1, 1], [4, 2, 3], [1, 4, 2]]\n",
        "'''\n",
        "#write a function takes three given input variables and return \n",
        "#the output is the most number_of_view of each user_id for each specificed topic_id\n",
        "\n",
        "#the corresponding output for the given input should return like this.\n",
        "mostViewedWriters(topicIds, answerIds, views) = [\n",
        "    [[3, 5], [2, 3], [1, 1]],\n",
        "    [[3, 5], [2, 3], [1, 2], [4, 2]],\n",
        "    [[3, 5], [2, 3], [1, 2], [4, 2]],\n",
        "    [[1, 3], [4, 2]]\n",
        "]\n",
        "'''"
      ],
      "execution_count": 0,
      "outputs": []
    }
  ]
}