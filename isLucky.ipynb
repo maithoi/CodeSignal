{
  "nbformat": 4,
  "nbformat_minor": 0,
  "metadata": {
    "colab": {
      "name": "isLucky.ipynb",
      "version": "0.3.2",
      "provenance": [],
      "include_colab_link": true
    },
    "kernelspec": {
      "name": "python3",
      "display_name": "Python 3"
    }
  },
  "cells": [
    {
      "cell_type": "markdown",
      "metadata": {
        "id": "view-in-github",
        "colab_type": "text"
      },
      "source": [
        "<a href=\"https://colab.research.google.com/github/maithoi/CodeSignal/blob/arcade/isLucky.ipynb\" target=\"_parent\"><img src=\"https://colab.research.google.com/assets/colab-badge.svg\" alt=\"Open In Colab\"/></a>"
      ]
    },
    {
      "cell_type": "code",
      "metadata": {
        "id": "puKGGvjqvejL",
        "colab_type": "code",
        "colab": {
          "base_uri": "https://localhost:8080/",
          "height": 89
        },
        "outputId": "60bedb20-af66-4024-87d6-f2831688063e"
      },
      "source": [
        "n = 134071\n",
        "str_n = str(n)\n",
        "len_n = len(str_n)\n"
      ],
      "execution_count": 19,
      "outputs": [
        {
          "output_type": "stream",
          "text": [
            "str_n: 134071\n",
            "len_n: 6\n",
            "6\n"
          ],
          "name": "stdout"
        },
        {
          "output_type": "execute_result",
          "data": {
            "text/plain": [
              "False"
            ]
          },
          "metadata": {
            "tags": []
          },
          "execution_count": 19
        }
      ]
    },
    {
      "cell_type": "code",
      "metadata": {
        "id": "8RQxFMwNw3-_",
        "colab_type": "code",
        "colab": {
          "base_uri": "https://localhost:8080/",
          "height": 53
        },
        "outputId": "31696fc6-2a16-4082-8938-45401c360329"
      },
      "source": [
        "first_half = str_n[:(len_n//2)]\n",
        "print(first_half)\n",
        "second_half = str_n[(len_n//2):]\n",
        "print(second_half)"
      ],
      "execution_count": 24,
      "outputs": [
        {
          "output_type": "stream",
          "text": [
            "134\n",
            "071\n"
          ],
          "name": "stdout"
        }
      ]
    },
    {
      "cell_type": "code",
      "metadata": {
        "id": "MKwKbRUqzNgp",
        "colab_type": "code",
        "colab": {
          "base_uri": "https://localhost:8080/",
          "height": 53
        },
        "outputId": "af5e2e0e-bbe8-47f9-8b53-48cf0caa2238"
      },
      "source": [
        "def sum_digits(digit):\n",
        "    return sum(int(x) for x in digit if x.isdigit())\n",
        "\n",
        "sum_first_half = sum_digits(first_half)\n",
        "sum_second_half = sum_digits(second_half)\n",
        "print('sum_first_half:', sum_first_half)\n",
        "print('sum_second_half:', sum_second_half)\n"
      ],
      "execution_count": 26,
      "outputs": [
        {
          "output_type": "stream",
          "text": [
            "sum_first_half: 8\n",
            "sum_second_half: 8\n"
          ],
          "name": "stdout"
        }
      ]
    },
    {
      "cell_type": "code",
      "metadata": {
        "id": "MCU4CsurzndT",
        "colab_type": "code",
        "colab": {
          "base_uri": "https://localhost:8080/",
          "height": 35
        },
        "outputId": "f9e85308-4bff-4571-a1e3-aa251933ef1a"
      },
      "source": [
        "def sum_digits(digit):\n",
        "    return sum(int(x) for x in digit if x.isdigit())\n",
        "\n",
        "def isLucky(n):\n",
        "    str_n = str(n)\n",
        "    len_n = len(str_n)\n",
        "    if len_n % 2 != 0:\n",
        "        return False\n",
        "    else:\n",
        "        #split the string into the first half and the second half\n",
        "        first_half = str_n[:(len_n//2)]\n",
        "        second_half = str_n[(len_n//2):]\n",
        "        #caculate the sum of the first half and the second half\n",
        "        sum_first_half = sum_digits(first_half)\n",
        "        sum_second_half = sum_digits(second_half)\n",
        "        if sum_first_half == sum_second_half:\n",
        "            return True\n",
        "        return False\n",
        "\n",
        "# are_U_Lucky = isLucky(134071)\n",
        "# print('are_U_Lucky:', are_U_Lucky)        \n",
        "\n",
        "    \n",
        "    \n"
      ],
      "execution_count": 28,
      "outputs": [
        {
          "output_type": "stream",
          "text": [
            "are_U_Lucky: True\n"
          ],
          "name": "stdout"
        }
      ]
    }
  ]
}