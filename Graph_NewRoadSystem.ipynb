{
  "nbformat": 4,
  "nbformat_minor": 0,
  "metadata": {
    "colab": {
      "name": "Graph-NewRoadSystem.ipynb",
      "version": "0.3.2",
      "provenance": [],
      "include_colab_link": true
    },
    "kernelspec": {
      "name": "python3",
      "display_name": "Python 3"
    }
  },
  "cells": [
    {
      "cell_type": "markdown",
      "metadata": {
        "id": "view-in-github",
        "colab_type": "text"
      },
      "source": [
        "<a href=\"https://colab.research.google.com/github/maithoi/CodeSignal/blob/challenges/Graph_NewRoadSystem.ipynb\" target=\"_parent\"><img src=\"https://colab.research.google.com/assets/colab-badge.svg\" alt=\"Open In Colab\"/></a>"
      ]
    },
    {
      "cell_type": "code",
      "metadata": {
        "id": "BlyW6XzBVDjD",
        "colab_type": "code",
        "colab": {}
      },
      "source": [
        "def newRoadSystem(roadRegister):\n",
        "    for x, y in zip(map(sum, roadRegister), map(sum, zip(*roadRegister))):\n",
        "        if x != y:\n",
        "            return False\n",
        "    return True"
      ],
      "execution_count": 0,
      "outputs": []
    },
    {
      "cell_type": "code",
      "metadata": {
        "id": "FQZgbUXbVHXE",
        "colab_type": "code",
        "colab": {}
      },
      "source": [
        "true = 1\n",
        "false = 0"
      ],
      "execution_count": 0,
      "outputs": []
    },
    {
      "cell_type": "code",
      "metadata": {
        "id": "Dre5P1nMVJz2",
        "colab_type": "code",
        "colab": {
          "base_uri": "https://localhost:8080/",
          "height": 128
        },
        "outputId": "a8dcdbdd-0a84-440b-b1cc-a19890c72199"
      },
      "source": [
        "r8 = [[false,true,false,true,true], \n",
        "    [false,false,false,false,true], \n",
        "    [true,false,false,true,true], \n",
        "    [true,true,true,false,false], \n",
        "    [true,true,true,false,false]]\n",
        "\n",
        "print(r8)\n",
        "print(list(map(sum, r8)))\n",
        "\n",
        "print(list(zip(*r8)))\n",
        "print(list(map(sum, zip(*r8))))\n",
        "\n",
        "print(list(zip(map(sum, r8), map(sum, zip(*r8)))))\n",
        "\n",
        "# each city has the same number of outgoing and incoming \n",
        "newRoadSystem(r8)"
      ],
      "execution_count": 53,
      "outputs": [
        {
          "output_type": "stream",
          "text": [
            "[[0, 1, 0, 1, 1], [0, 0, 0, 0, 1], [1, 0, 0, 1, 1], [1, 1, 1, 0, 0], [1, 1, 1, 0, 0]]\n",
            "[3, 1, 3, 3, 3]\n",
            "[(0, 0, 1, 1, 1), (1, 0, 0, 1, 1), (0, 0, 0, 1, 1), (1, 0, 1, 0, 0), (1, 1, 1, 0, 0)]\n",
            "[3, 3, 2, 2, 3]\n",
            "[(3, 3), (1, 3), (3, 2), (3, 2), (3, 3)]\n"
          ],
          "name": "stdout"
        },
        {
          "output_type": "execute_result",
          "data": {
            "text/plain": [
              "False"
            ]
          },
          "metadata": {
            "tags": []
          },
          "execution_count": 53
        }
      ]
    },
    {
      "cell_type": "code",
      "metadata": {
        "id": "Z_ub6YLomY6c",
        "colab_type": "code",
        "colab": {
          "base_uri": "https://localhost:8080/",
          "height": 110
        },
        "outputId": "6a0ebb53-fca0-499b-8bd4-b8e52ce74d03"
      },
      "source": [
        "r8"
      ],
      "execution_count": 58,
      "outputs": [
        {
          "output_type": "execute_result",
          "data": {
            "text/plain": [
              "[[0, 1, 0, 1, 1],\n",
              " [0, 0, 0, 0, 1],\n",
              " [1, 0, 0, 1, 1],\n",
              " [1, 1, 1, 0, 0],\n",
              " [1, 1, 1, 0, 0]]"
            ]
          },
          "metadata": {
            "tags": []
          },
          "execution_count": 58
        }
      ]
    },
    {
      "cell_type": "code",
      "metadata": {
        "id": "T1tEpyv7mcw-",
        "colab_type": "code",
        "colab": {
          "base_uri": "https://localhost:8080/",
          "height": 35
        },
        "outputId": "7582e929-d787-443f-9470-f97de7092ebd"
      },
      "source": [
        "list(map(sum, r8))"
      ],
      "execution_count": 59,
      "outputs": [
        {
          "output_type": "execute_result",
          "data": {
            "text/plain": [
              "[3, 1, 3, 3, 3]"
            ]
          },
          "metadata": {
            "tags": []
          },
          "execution_count": 59
        }
      ]
    },
    {
      "cell_type": "code",
      "metadata": {
        "id": "6ZpFuKNJl2PE",
        "colab_type": "code",
        "colab": {
          "base_uri": "https://localhost:8080/",
          "height": 110
        },
        "outputId": "262a48e8-9894-422e-cfe2-29532541a027"
      },
      "source": [
        "list(zip(*r8))"
      ],
      "execution_count": 55,
      "outputs": [
        {
          "output_type": "execute_result",
          "data": {
            "text/plain": [
              "[(0, 0, 1, 1, 1),\n",
              " (1, 0, 0, 1, 1),\n",
              " (0, 0, 0, 1, 1),\n",
              " (1, 0, 1, 0, 0),\n",
              " (1, 1, 1, 0, 0)]"
            ]
          },
          "metadata": {
            "tags": []
          },
          "execution_count": 55
        }
      ]
    },
    {
      "cell_type": "code",
      "metadata": {
        "id": "Gya3EgZ4mBSN",
        "colab_type": "code",
        "colab": {
          "base_uri": "https://localhost:8080/",
          "height": 35
        },
        "outputId": "5c6c1e1f-9ab6-441e-80b6-ee55517d2f88"
      },
      "source": [
        "list(map(sum, zip(*r8)))"
      ],
      "execution_count": 56,
      "outputs": [
        {
          "output_type": "execute_result",
          "data": {
            "text/plain": [
              "[3, 3, 2, 2, 3]"
            ]
          },
          "metadata": {
            "tags": []
          },
          "execution_count": 56
        }
      ]
    }
  ]
}