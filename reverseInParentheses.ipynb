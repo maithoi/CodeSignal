{
  "nbformat": 4,
  "nbformat_minor": 0,
  "metadata": {
    "colab": {
      "name": "reverseInParentheses.ipynb",
      "version": "0.3.2",
      "provenance": [],
      "include_colab_link": true
    },
    "kernelspec": {
      "name": "python3",
      "display_name": "Python 3"
    }
  },
  "cells": [
    {
      "cell_type": "markdown",
      "metadata": {
        "id": "view-in-github",
        "colab_type": "text"
      },
      "source": [
        "<a href=\"https://colab.research.google.com/github/maithoi/CodeSignal/blob/arcade/reverseInParentheses.ipynb\" target=\"_parent\"><img src=\"https://colab.research.google.com/assets/colab-badge.svg\" alt=\"Open In Colab\"/></a>"
      ]
    },
    {
      "cell_type": "code",
      "metadata": {
        "id": "OcYvYXGh1BpN",
        "colab_type": "code",
        "outputId": "881942bc-a79d-453e-a09e-e416dc8b0711",
        "colab": {
          "base_uri": "https://localhost:8080/",
          "height": 35
        }
      },
      "source": [
        "#nested parentheses\n",
        "import re\n",
        "inputString = \"foo(bar(baz))blim\"\n",
        "\n",
        "split_str = [\", \".join(x.split()) for x in re.split(r'[()]',inputString) if x.strip()]\n",
        "print('split_str:', split_str)\n"
      ],
      "execution_count": 3,
      "outputs": [
        {
          "output_type": "stream",
          "text": [
            "split_str: ['foo', 'bar', 'baz', 'blim']\n"
          ],
          "name": "stdout"
        }
      ]
    },
    {
      "cell_type": "markdown",
      "metadata": {
        "id": "AWKH28-nUtT5",
        "colab_type": "text"
      },
      "source": [
        "[find matching pattern with regular expression, split and join](https://stackoverflow.com/questions/40552212/find-all-strings-in-nested-brackets)"
      ]
    },
    {
      "cell_type": "code",
      "metadata": {
        "id": "LHrf1dWMUHgc",
        "colab_type": "code",
        "colab": {
          "base_uri": "https://localhost:8080/",
          "height": 35
        },
        "outputId": "60a34bea-ce51-4c07-dcca-a0af1867d1f3"
      },
      "source": [
        "def match(string):\n",
        "    unrefined_match=re.findall('\\((\\w+)|(\\w+)\\)', string)\n",
        "    return [x for i in unrefined_match for x in i if x]\n",
        "\n",
        "str_in_parentheses = match(inputString)\n",
        "print('str_in_parentheses:', str_in_parentheses )\n"
      ],
      "execution_count": 11,
      "outputs": [
        {
          "output_type": "stream",
          "text": [
            "str_in_parentheses: ['bar', 'baz']\n"
          ],
          "name": "stdout"
        }
      ]
    },
    {
      "cell_type": "code",
      "metadata": {
        "id": "6JYn0yCQeYkh",
        "colab_type": "code",
        "colab": {
          "base_uri": "https://localhost:8080/",
          "height": 35
        },
        "outputId": "11ad609e-fb70-4868-e111-af6fc915b39b"
      },
      "source": [
        "def reverseInParentheses(s):\n",
        "    return eval('\"' + s.replace('(', '\"+(\"').replace(')', '\")[::-1]+\"') + '\"')\n",
        "#test\n",
        "res = reverseInParentheses(inputString)\n",
        "print('res:', res)"
      ],
      "execution_count": 17,
      "outputs": [
        {
          "output_type": "stream",
          "text": [
            "res: foobazrabblim\n"
          ],
          "name": "stdout"
        }
      ]
    },
    {
      "cell_type": "code",
      "metadata": {
        "id": "GH7z0fp0g7fT",
        "colab_type": "code",
        "colab": {}
      },
      "source": [
        ""
      ],
      "execution_count": 0,
      "outputs": []
    }
  ]
}