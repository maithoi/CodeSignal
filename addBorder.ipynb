{
  "nbformat": 4,
  "nbformat_minor": 0,
  "metadata": {
    "colab": {
      "name": "addBorder.ipynb",
      "version": "0.3.2",
      "provenance": [],
      "include_colab_link": true
    },
    "kernelspec": {
      "name": "python3",
      "display_name": "Python 3"
    }
  },
  "cells": [
    {
      "cell_type": "markdown",
      "metadata": {
        "id": "view-in-github",
        "colab_type": "text"
      },
      "source": [
        "<a href=\"https://colab.research.google.com/github/maithoi/CodeSignal/blob/arcade/addBorder.ipynb\" target=\"_parent\"><img src=\"https://colab.research.google.com/assets/colab-badge.svg\" alt=\"Open In Colab\"/></a>"
      ]
    },
    {
      "cell_type": "code",
      "metadata": {
        "id": "NYV75C0lxYuS",
        "colab_type": "code",
        "colab": {
          "base_uri": "https://localhost:8080/",
          "height": 35
        },
        "outputId": "84afc7ad-ea4f-4b49-cf3d-15beadd125f3"
      },
      "source": [
        "picture = [\"abc\",\n",
        "           \"***\",\n",
        "           \"ded\"]\n",
        "a = '*' * 3\n",
        "\n",
        "width_border = '\"{}\"'.format('*' * (len(picture[0]) + 2))\n",
        "print(width_border)\n"
      ],
      "execution_count": 1,
      "outputs": [
        {
          "output_type": "stream",
          "text": [
            "\"*****\"\n"
          ],
          "name": "stdout"
        }
      ]
    },
    {
      "cell_type": "code",
      "metadata": {
        "id": "KYsYnQ-41BYm",
        "colab_type": "code",
        "colab": {
          "base_uri": "https://localhost:8080/",
          "height": 89
        },
        "outputId": "c6e4cb6f-171b-4916-e3be-21f69c11dfa8"
      },
      "source": [
        "new_picture = []\n",
        "for char in picture:\n",
        "    char = '\"{}\"'.format('*' + char + '*')\n",
        "    print(char) \n",
        "    new_picture.append(char)\n",
        "#new_picture    \n",
        "print('new_picture:', new_picture)\n"
      ],
      "execution_count": 3,
      "outputs": [
        {
          "output_type": "stream",
          "text": [
            "\"*abc*\"\n",
            "\"*****\"\n",
            "\"*ded*\"\n",
            "new_picture: ['\"*abc*\"', '\"*****\"', '\"*ded*\"']\n"
          ],
          "name": "stdout"
        }
      ]
    },
    {
      "cell_type": "code",
      "metadata": {
        "id": "G7mTvxpBwsuv",
        "colab_type": "code",
        "colab": {}
      },
      "source": [
        "def addBorder(picture):\n",
        "    do\n",
        "    #list comprehension do the iteration work\n",
        "    \n",
        "\n",
        "\n"
      ],
      "execution_count": 0,
      "outputs": []
    }
  ]
}