{
  "nbformat": 4,
  "nbformat_minor": 0,
  "metadata": {
    "colab": {
      "name": "commonCharacterCount.ipynb",
      "version": "0.3.2",
      "provenance": [],
      "include_colab_link": true
    },
    "kernelspec": {
      "name": "python3",
      "display_name": "Python 3"
    }
  },
  "cells": [
    {
      "cell_type": "markdown",
      "metadata": {
        "id": "view-in-github",
        "colab_type": "text"
      },
      "source": [
        "<a href=\"https://colab.research.google.com/github/maithoi/CodeSignal/blob/master/commonCharacterCount.ipynb\" target=\"_parent\"><img src=\"https://colab.research.google.com/assets/colab-badge.svg\" alt=\"Open In Colab\"/></a>"
      ]
    },
    {
      "cell_type": "code",
      "metadata": {
        "id": "02mCNMTxHuhN",
        "colab_type": "code",
        "cellView": "code",
        "outputId": "7cc875bd-4061-47c7-ac87-94b2f862bd6a",
        "colab": {
          "base_uri": "https://localhost:8080/",
          "height": 71
        }
      },
      "source": [
        "#@title Default title text\n",
        "s1 = \"Aabcc\"\n",
        "s1_ = s1.lower()\n",
        "s2 = \"adcaA\"\n",
        "s2_ = s2.lower()\n",
        "\n",
        "\n",
        "def check_freq(str):\n",
        "    freq = {}\n",
        "    for c in str:\n",
        "       freq[c] = str.count(c)\n",
        "    return freq\n",
        "#test\n",
        "count_occurrences_s1_ = check_freq(s1_)\n",
        "count_occurrences_s2_ = check_freq(s2_)\n",
        "print(count_occurrences_s1_)\n",
        "print(count_occurrences_s2_)\n",
        "\n",
        "#find intersection keys of two dictionary\n",
        "set_s1_ = set(count_occurrences_s1_.keys())\n",
        "set_s2_ = set(count_occurrences_s2_.keys())\n",
        "intersection = set_s1_ & set_s2_\n",
        "print('intersection:', intersection)\n"
      ],
      "execution_count": 0,
      "outputs": [
        {
          "output_type": "stream",
          "text": [
            "{'a': 2, 'b': 1, 'c': 2}\n",
            "{'a': 3, 'd': 1, 'c': 1}\n",
            "intersection: {'a', 'c'}\n"
          ],
          "name": "stdout"
        }
      ]
    },
    {
      "cell_type": "code",
      "metadata": {
        "id": "VGGekceGN9lV",
        "colab_type": "code",
        "outputId": "3f846233-10ce-441e-b11c-e11143172828",
        "colab": {
          "base_uri": "https://localhost:8080/",
          "height": 35
        }
      },
      "source": [
        "count = 0\n",
        "for k in intersection:\n",
        "  #print(k)\n",
        "  if count_occurrences_s1_[k] <= count_occurrences_s2_[k]:\n",
        "    count += count_occurrences_s1_[k] \n",
        "  else:\n",
        "    count += count_occurrences_s2_[k]\n",
        "print(count)"
      ],
      "execution_count": 0,
      "outputs": [
        {
          "output_type": "stream",
          "text": [
            "3\n"
          ],
          "name": "stdout"
        }
      ]
    },
    {
      "cell_type": "code",
      "metadata": {
        "id": "Y5_TmSTmvfDu",
        "colab_type": "code",
        "outputId": "8cda3899-5ab9-42bf-837a-a82c4d5ffb45",
        "colab": {
          "base_uri": "https://localhost:8080/",
          "height": 35
        }
      },
      "source": [
        "\n",
        "#function to count occurences of characters in the given strings\n",
        "s1_ = \"aabcc\"\n",
        "s2_ = \"adcaa\"\n",
        "def check_freq(str):\n",
        "    freq = {}\n",
        "    for c in str:\n",
        "       freq[c] = str.count(c)\n",
        "    return freq\n",
        "\n",
        "count_occurrences_s1_ = check_freq(s1_)\n",
        "count_occurrences_s2_ = check_freq(s2_)\n",
        "print(count_occurrences_s2_)\n"
      ],
      "execution_count": 0,
      "outputs": [
        {
          "output_type": "stream",
          "text": [
            "{'a': 3, 'd': 1, 'c': 1}\n"
          ],
          "name": "stdout"
        }
      ]
    },
    {
      "cell_type": "code",
      "metadata": {
        "id": "WcDoJtLP36tr",
        "colab_type": "code",
        "outputId": "355e189d-861a-4ef0-9aa4-ab6058deade9",
        "colab": {
          "base_uri": "https://localhost:8080/",
          "height": 35
        }
      },
      "source": [
        "#find intersection keys of two dictionary\n",
        "def intersect_dict():\n",
        "  set_s1_ = set(count_occurrences_s1_.keys())\n",
        "  set_s2_ = set(count_occurrences_s2_.keys())\n",
        "  intersection = set_s1_ & set_s2_\n",
        "  return intersection\n",
        "print('intersection:', intersection)"
      ],
      "execution_count": 0,
      "outputs": [
        {
          "output_type": "stream",
          "text": [
            "intersection: {'a', 'c'}\n"
          ],
          "name": "stdout"
        }
      ]
    },
    {
      "cell_type": "code",
      "metadata": {
        "id": "N80HSGIRvqDs",
        "colab_type": "code",
        "outputId": "ce5bff71-0c61-490e-e52b-2299cbd98f5c",
        "colab": {
          "base_uri": "https://localhost:8080/",
          "height": 35
        }
      },
      "source": [
        "def commonCharacterCount(str):\n",
        "  count = 0\n",
        "  for k in intersection:\n",
        "  #print(k)\n",
        "    if count_occurrences_s1_[k] <= count_occurrences_s2_[k]:\n",
        "        count += count_occurrences_s1_[k] \n",
        "    else:\n",
        "        count += count_occurrences_s2_[k]\n",
        "  return count\n",
        "print(count)"
      ],
      "execution_count": 0,
      "outputs": [
        {
          "output_type": "stream",
          "text": [
            "3\n"
          ],
          "name": "stdout"
        }
      ]
    },
    {
      "cell_type": "code",
      "metadata": {
        "id": "PugsCV-M5ZSz",
        "colab_type": "code",
        "outputId": "f9c15780-000e-423a-a8a4-9947fdd37243",
        "colab": {
          "base_uri": "https://localhost:8080/",
          "height": 35
        }
      },
      "source": [
        "#function to count occurences of characters in the given strings\n",
        "s1_ = \"aabcc\"\n",
        "s2_ = \"adcaa\"\n",
        "def check_freq(str):\n",
        "    freq = {}\n",
        "    for c in str:\n",
        "       freq[c] = str.count(c)\n",
        "    return freq\n",
        "\n",
        "# count_occurrences_s1_ = check_freq(s1_)\n",
        "# count_occurrences_s2_ = check_freq(s2_)\n",
        "# print(count_occurrences_s2_)\n",
        "\n",
        "#find intersection keys of two dictionary\n",
        "def intersect_dict():\n",
        "  set_s1_ = set(count_occurrences_s1_.keys())\n",
        "  set_s2_ = set(count_occurrences_s2_.keys())\n",
        "  intersection = set_s1_ & set_s2_\n",
        "  return intersection\n",
        "# print('intersection:', intersection)\n",
        "\n",
        "def commonCharacterCount(s1, s2):\n",
        "  count_occurrences_s1_ = check_freq(s1)\n",
        "  count_occurrences_s2_ = check_freq(s2)\n",
        "  intersection = intersect_dict()\n",
        "  count = 0\n",
        "  for k in intersection:\n",
        "    if count_occurrences_s1_[k] <= count_occurrences_s2_[k]:\n",
        "        count += count_occurrences_s1_[k] \n",
        "    else:\n",
        "        count += count_occurrences_s2_[k]\n",
        "  return count\n",
        "print(count)\n"
      ],
      "execution_count": 0,
      "outputs": [
        {
          "output_type": "stream",
          "text": [
            "3\n"
          ],
          "name": "stdout"
        }
      ]
    }
  ]
}