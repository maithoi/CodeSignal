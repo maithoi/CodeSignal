{
  "nbformat": 4,
  "nbformat_minor": 0,
  "metadata": {
    "colab": {
      "name": "longestWord.ipynb",
      "version": "0.3.2",
      "provenance": [],
      "include_colab_link": true
    },
    "kernelspec": {
      "name": "python3",
      "display_name": "Python 3"
    }
  },
  "cells": [
    {
      "cell_type": "markdown",
      "metadata": {
        "id": "view-in-github",
        "colab_type": "text"
      },
      "source": [
        "<a href=\"https://colab.research.google.com/github/maithoi/CodeSignal/blob/master/longestWord.ipynb\" target=\"_parent\"><img src=\"https://colab.research.google.com/assets/colab-badge.svg\" alt=\"Open In Colab\"/></a>"
      ]
    },
    {
      "cell_type": "code",
      "metadata": {
        "id": "nFZqOV0uGOHV",
        "colab_type": "code",
        "colab": {}
      },
      "source": [
        "'''\n",
        "# TODO: Define a word as a sequence of consecutive English letters. Find the longest word from the given string.\n",
        "\n",
        "# e.x.\n",
        "\n",
        "input = \"You are the best!!!!!!!!!!!! CodeFighter ever!\"\n",
        "expected_output = CodeFighter\n",
        "\n",
        "'''\n",
        "text1 = \"Ready, steady, go!\"\n",
        "text = \"You are the best!!!!!!!!!!!! CodeFighter ever!\""
      ],
      "execution_count": 0,
      "outputs": []
    },
    {
      "cell_type": "code",
      "metadata": {
        "id": "zjWjYnioGwTv",
        "colab_type": "code",
        "colab": {}
      },
      "source": [
        "# split the sequence into each word without comma, whitespace and special characters.\n",
        "import string\n",
        "def longestWord(sequence):\n",
        "    list_of_split_word = [word.strip(string.punctuation) for word in sequence.split()]\n",
        "    longest_word = max(list_of_split_word, key=len)\n",
        "    return longest_word"
      ],
      "execution_count": 0,
      "outputs": []
    },
    {
      "cell_type": "code",
      "metadata": {
        "id": "HW-YM5gIHMnP",
        "colab_type": "code",
        "colab": {
          "base_uri": "https://localhost:8080/",
          "height": 35
        },
        "outputId": "57fbec07-b046-4f98-e51f-85cc96a9002e"
      },
      "source": [
        "# test\n",
        "longestWord(text)"
      ],
      "execution_count": 33,
      "outputs": [
        {
          "output_type": "execute_result",
          "data": {
            "text/plain": [
              "'CodeFighter'"
            ]
          },
          "metadata": {
            "tags": []
          },
          "execution_count": 33
        }
      ]
    },
    {
      "cell_type": "code",
      "metadata": {
        "id": "R0wDSkRoIuVo",
        "colab_type": "code",
        "colab": {
          "base_uri": "https://localhost:8080/",
          "height": 35
        },
        "outputId": "67016682-d89b-45b1-f9e0-71defd081e75"
      },
      "source": [
        "# test \n",
        "longestWord(text1)"
      ],
      "execution_count": 34,
      "outputs": [
        {
          "output_type": "execute_result",
          "data": {
            "text/plain": [
              "'steady'"
            ]
          },
          "metadata": {
            "tags": []
          },
          "execution_count": 34
        }
      ]
    },
    {
      "cell_type": "code",
      "metadata": {
        "id": "AbGl3VCKKbK-",
        "colab_type": "code",
        "colab": {}
      },
      "source": [
        ""
      ],
      "execution_count": 0,
      "outputs": []
    }
  ]
}