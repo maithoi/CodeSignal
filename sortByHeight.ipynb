{
  "nbformat": 4,
  "nbformat_minor": 0,
  "metadata": {
    "colab": {
      "name": "sortByHeight.ipynb",
      "version": "0.3.2",
      "provenance": [],
      "include_colab_link": true
    },
    "kernelspec": {
      "name": "python3",
      "display_name": "Python 3"
    }
  },
  "cells": [
    {
      "cell_type": "markdown",
      "metadata": {
        "id": "view-in-github",
        "colab_type": "text"
      },
      "source": [
        "<a href=\"https://colab.research.google.com/github/maithoi/CodeSignal/blob/arcade/sortByHeight.ipynb\" target=\"_parent\"><img src=\"https://colab.research.google.com/assets/colab-badge.svg\" alt=\"Open In Colab\"/></a>"
      ]
    },
    {
      "cell_type": "code",
      "metadata": {
        "id": "SwMg50QA5Aqm",
        "colab_type": "code",
        "colab": {
          "base_uri": "https://localhost:8080/",
          "height": 125
        },
        "outputId": "160beb10-c0b6-4c48-c408-bd9b596d00ad"
      },
      "source": [
        "import numpy as np\n",
        "a = [-1, 150, 190, 170, -1, -1, 160, 180]\n",
        "np_a = np.array(a)\n",
        "\n",
        "tree_post = [x for x in range(len(np_a)) if np_a[x] == -1]\n",
        "tree_value = [np_a[x] for x in tree_post]\n",
        "\n",
        "print('tree_post:', tree_post)\n",
        "print('tree_value:', tree_value)\n",
        "\n",
        "people_height = [np_a[x] for x in range(len(np_a)) if np_a[x] != -1]\n",
        "people_position = [x for x in range(len(np_a)) if np_a[x] != -1]\n",
        "\n",
        "print('people_height:', people_height)\n",
        "print('people_position:', people_position)\n",
        "\n",
        "sorted_people_height = np.sort(people_height)\n",
        "print('sorted_people_height:', sorted_people_height)\n"
      ],
      "execution_count": 9,
      "outputs": [
        {
          "output_type": "stream",
          "text": [
            "[ -1 150 190 170  -1  -1 160 180]\n",
            "tree_post: [0, 4, 5]\n",
            "tree_value: [-1, -1, -1]\n",
            "people_height: [150, 190, 170, 160, 180]\n",
            "people_position: [1, 2, 3, 6, 7]\n",
            "sorted_people_height: [150 160 170 180 190]\n"
          ],
          "name": "stdout"
        }
      ]
    },
    {
      "cell_type": "code",
      "metadata": {
        "id": "kLNRsDr-6qV0",
        "colab_type": "code",
        "colab": {
          "base_uri": "https://localhost:8080/",
          "height": 35
        },
        "outputId": "772e2471-086d-4427-c74f-65beae887789"
      },
      "source": [
        "#merge two arrays with specified index into only one array\n",
        "len_np_a = len(np_a)\n",
        "sorted_arr = [0] * 8\n",
        "\n",
        "for j in range(len(tree_post)):\n",
        "    sorted_arr[tree_post[j]] = tree_value[j]\n",
        "for k in range(len(people_position)):\n",
        "    sorted_arr[people_position[k]] = sorted_people_height[k]\n",
        "\n",
        "print('sorted_arr:', sorted_arr)\n",
        "\n"
      ],
      "execution_count": 29,
      "outputs": [
        {
          "output_type": "stream",
          "text": [
            "sorted_arr: [-1, 150, 160, 170, -1, -1, 180, 190]\n"
          ],
          "name": "stdout"
        }
      ]
    },
    {
      "cell_type": "code",
      "metadata": {
        "id": "cBexwP-jGLDu",
        "colab_type": "code",
        "colab": {}
      },
      "source": [
        "def sortByHeight(a):\n",
        "    import numpy as np\n",
        "    np_a = np.array(a)\n",
        "    \n",
        "    tree_post = [x for x in range(len(np_a)) if np_a[x] == -1]\n",
        "    tree_value = [np_a[x] for x in tree_post]\n",
        "    \n",
        "    people_height = [np_a[x] for x in range(len(np_a)) if np_a[x] != -1]\n",
        "    people_position = [x for x in range(len(np_a)) if np_a[x] != -1]\n",
        "    \n",
        "    \n",
        "    sorted_people_height = np.sort(people_height)\n",
        "    # print('sorted_people_height:', sorted_people_height)\n",
        "    #merge two arrays with specified index into only one array\n",
        "    len_np_a = len(np_a)\n",
        "    sorted_arr = [0] * 8\n",
        "\n",
        "    for j in range(len(tree_post)):\n",
        "        sorted_arr[tree_post[j]] = tree_value[j]\n",
        "    \n",
        "    for k in range(len(people_position)):\n",
        "        sorted_arr[people_position[k]] = sorted_people_height[k]\n",
        "\n",
        "    # print('sorted_arr:', sorted_arr)\n",
        "    return sorted_arr\n",
        "\n"
      ],
      "execution_count": 0,
      "outputs": []
    }
  ]
}